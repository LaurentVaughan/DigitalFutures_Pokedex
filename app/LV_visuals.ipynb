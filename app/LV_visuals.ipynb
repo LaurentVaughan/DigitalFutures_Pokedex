{
 "cells": [
  {
   "cell_type": "code",
   "execution_count": null,
   "id": "c0ff30ae",
   "metadata": {},
   "outputs": [],
   "source": [
    "import matplotlib.pyplot as plt\n",
    "import seaborn as sns\n",
    "import numpy as np\n",
    "\n",
    "# Focus columns\n",
    "focus_columns = ['hp', 'attack', 'defense', 'speed', 'generation', 'status', 'name']\n",
    "\n",
    "# Filter and clean data\n",
    "df_focus = df[focus_columns].dropna()\n",
    "df_focus = df_focus[df_focus['status'].isin(['Legendary', 'Mythical', 'Sub Legendary', 'Normal'])]\n",
    "\n",
    "# Prepare heatmaps per status\n",
    "status_groups = ['Legendary', 'Mythical', 'Sub Legendary', 'Normal']\n",
    "stat_columns = ['hp', 'attack', 'defense', 'speed']\n",
    "\n",
    "# Build a 2x2 grid of heatmaps\n",
    "fig, axes = plt.subplots(2, 2, figsize=(18, 14))\n",
    "fig.suptitle(\"Stat Distribution by Pokémon Status and Generation\", fontsize=18)\n",
    "\n",
    "for ax, status, position in zip(axes.flat, status_groups, range(4)):\n",
    "    group = df_focus[df_focus['status'] == status]\n",
    "    heatmap_data = group.groupby('generation')[stat_columns].mean().T\n",
    "\n",
    "    sns.heatmap(\n",
    "        heatmap_data,\n",
    "        annot=True,\n",
    "        fmt=\".1f\",\n",
    "        cmap='YlOrRd',\n",
    "        ax=ax,\n",
    "        cbar=position == 0,  # Show color bar only for first\n",
    "        linewidths=0.5,\n",
    "        linecolor='gray'\n",
    "    )\n",
    "    ax.set_title(f\"{status} Pokémon\", fontsize=14)\n",
    "    ax.set_xlabel(\"Generation\")\n",
    "    ax.set_ylabel(\"Stat\")\n",
    "\n",
    "plt.tight_layout(rect=[0, 0, 1, 0.95])\n",
    "plt.show()\n"
   ]
  }
 ],
 "metadata": {
  "kernelspec": {
   "display_name": ".DF_pokedex",
   "language": "python",
   "name": "python3"
  },
  "language_info": {
   "name": "python",
   "version": "3.13.3"
  }
 },
 "nbformat": 4,
 "nbformat_minor": 5
}
